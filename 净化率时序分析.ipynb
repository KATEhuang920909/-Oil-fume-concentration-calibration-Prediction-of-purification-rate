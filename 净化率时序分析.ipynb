{
 "cells": [
  {
   "cell_type": "markdown",
   "metadata": {},
   "source": [
    "# preprocessing"
   ]
  },
  {
   "cell_type": "code",
   "execution_count": 1,
   "metadata": {},
   "outputs": [
    {
     "name": "stderr",
     "output_type": "stream",
     "text": [
      "i:\\python\\lib\\site-packages\\pandas\\io\\excel.py:380: UserWarning: The 'parse_dates=True' keyword of read_excel was provided without an 'index_col' keyword value.\n",
      "  warn(\"The 'parse_dates=True' keyword of read_excel was provided\"\n"
     ]
    }
   ],
   "source": [
    "import pandas as pd\n",
    "data=pd.read_excel(r'C:\\Users\\kate\\Desktop\\油烟data\\201708.xlsx',parse_dates=True)"
   ]
  },
  {
   "cell_type": "code",
   "execution_count": 4,
   "metadata": {},
   "outputs": [],
   "source": [
    "data_current=data[data['VTID']==1]"
   ]
  },
  {
   "cell_type": "code",
   "execution_count": 5,
   "metadata": {},
   "outputs": [
    {
     "data": {
      "text/html": [
       "<div>\n",
       "<style scoped>\n",
       "    .dataframe tbody tr th:only-of-type {\n",
       "        vertical-align: middle;\n",
       "    }\n",
       "\n",
       "    .dataframe tbody tr th {\n",
       "        vertical-align: top;\n",
       "    }\n",
       "\n",
       "    .dataframe thead th {\n",
       "        text-align: right;\n",
       "    }\n",
       "</style>\n",
       "<table border=\"1\" class=\"dataframe\">\n",
       "  <thead>\n",
       "    <tr style=\"text-align: right;\">\n",
       "      <th></th>\n",
       "      <th>ID</th>\n",
       "      <th>DERID</th>\n",
       "      <th>VTID</th>\n",
       "      <th>RTValue</th>\n",
       "      <th>RTText</th>\n",
       "      <th>RTTime</th>\n",
       "      <th>CreateDate</th>\n",
       "      <th>DataFrom</th>\n",
       "    </tr>\n",
       "  </thead>\n",
       "  <tbody>\n",
       "    <tr>\n",
       "      <th>0</th>\n",
       "      <td>1</td>\n",
       "      <td>46</td>\n",
       "      <td>1</td>\n",
       "      <td>5.52</td>\n",
       "      <td>NaN</td>\n",
       "      <td>2017-08-01 20:40:00</td>\n",
       "      <td>NaN</td>\n",
       "      <td>0</td>\n",
       "    </tr>\n",
       "    <tr>\n",
       "      <th>8</th>\n",
       "      <td>9</td>\n",
       "      <td>46</td>\n",
       "      <td>1</td>\n",
       "      <td>3.38</td>\n",
       "      <td>NaN</td>\n",
       "      <td>2017-08-01 20:50:00</td>\n",
       "      <td>NaN</td>\n",
       "      <td>0</td>\n",
       "    </tr>\n",
       "    <tr>\n",
       "      <th>16</th>\n",
       "      <td>17</td>\n",
       "      <td>46</td>\n",
       "      <td>1</td>\n",
       "      <td>5.52</td>\n",
       "      <td>NaN</td>\n",
       "      <td>2017-08-01 21:00:59</td>\n",
       "      <td>NaN</td>\n",
       "      <td>0</td>\n",
       "    </tr>\n",
       "    <tr>\n",
       "      <th>24</th>\n",
       "      <td>25</td>\n",
       "      <td>46</td>\n",
       "      <td>1</td>\n",
       "      <td>5.43</td>\n",
       "      <td>NaN</td>\n",
       "      <td>2017-08-01 21:10:59</td>\n",
       "      <td>NaN</td>\n",
       "      <td>0</td>\n",
       "    </tr>\n",
       "    <tr>\n",
       "      <th>32</th>\n",
       "      <td>33</td>\n",
       "      <td>46</td>\n",
       "      <td>1</td>\n",
       "      <td>5.45</td>\n",
       "      <td>NaN</td>\n",
       "      <td>2017-08-01 21:20:00</td>\n",
       "      <td>NaN</td>\n",
       "      <td>0</td>\n",
       "    </tr>\n",
       "  </tbody>\n",
       "</table>\n",
       "</div>"
      ],
      "text/plain": [
       "    ID  DERID  VTID  RTValue  RTText               RTTime  CreateDate  \\\n",
       "0    1     46     1     5.52     NaN  2017-08-01 20:40:00         NaN   \n",
       "8    9     46     1     3.38     NaN  2017-08-01 20:50:00         NaN   \n",
       "16  17     46     1     5.52     NaN  2017-08-01 21:00:59         NaN   \n",
       "24  25     46     1     5.43     NaN  2017-08-01 21:10:59         NaN   \n",
       "32  33     46     1     5.45     NaN  2017-08-01 21:20:00         NaN   \n",
       "\n",
       "    DataFrom  \n",
       "0          0  \n",
       "8          0  \n",
       "16         0  \n",
       "24         0  \n",
       "32         0  "
      ]
     },
     "execution_count": 5,
     "metadata": {},
     "output_type": "execute_result"
    }
   ],
   "source": [
    "data_current.head()"
   ]
  },
  {
   "cell_type": "code",
   "execution_count": 6,
   "metadata": {},
   "outputs": [],
   "source": [
    "del data_current['ID']\n",
    "del data_current['RTText']\n",
    "del data_current['CreateDate']\n",
    "del data_current['DataFrom']"
   ]
  },
  {
   "cell_type": "code",
   "execution_count": 8,
   "metadata": {},
   "outputs": [
    {
     "data": {
      "text/html": [
       "<div>\n",
       "<style scoped>\n",
       "    .dataframe tbody tr th:only-of-type {\n",
       "        vertical-align: middle;\n",
       "    }\n",
       "\n",
       "    .dataframe tbody tr th {\n",
       "        vertical-align: top;\n",
       "    }\n",
       "\n",
       "    .dataframe thead th {\n",
       "        text-align: right;\n",
       "    }\n",
       "</style>\n",
       "<table border=\"1\" class=\"dataframe\">\n",
       "  <thead>\n",
       "    <tr style=\"text-align: right;\">\n",
       "      <th></th>\n",
       "      <th>DERID</th>\n",
       "      <th>VTID</th>\n",
       "      <th>RTValue</th>\n",
       "      <th>RTTime</th>\n",
       "    </tr>\n",
       "  </thead>\n",
       "  <tbody>\n",
       "    <tr>\n",
       "      <th>0</th>\n",
       "      <td>46</td>\n",
       "      <td>1</td>\n",
       "      <td>5.52</td>\n",
       "      <td>2017-08-01 20:40:00</td>\n",
       "    </tr>\n",
       "    <tr>\n",
       "      <th>8</th>\n",
       "      <td>46</td>\n",
       "      <td>1</td>\n",
       "      <td>3.38</td>\n",
       "      <td>2017-08-01 20:50:00</td>\n",
       "    </tr>\n",
       "    <tr>\n",
       "      <th>16</th>\n",
       "      <td>46</td>\n",
       "      <td>1</td>\n",
       "      <td>5.52</td>\n",
       "      <td>2017-08-01 21:00:59</td>\n",
       "    </tr>\n",
       "    <tr>\n",
       "      <th>24</th>\n",
       "      <td>46</td>\n",
       "      <td>1</td>\n",
       "      <td>5.43</td>\n",
       "      <td>2017-08-01 21:10:59</td>\n",
       "    </tr>\n",
       "    <tr>\n",
       "      <th>32</th>\n",
       "      <td>46</td>\n",
       "      <td>1</td>\n",
       "      <td>5.45</td>\n",
       "      <td>2017-08-01 21:20:00</td>\n",
       "    </tr>\n",
       "  </tbody>\n",
       "</table>\n",
       "</div>"
      ],
      "text/plain": [
       "    DERID  VTID  RTValue               RTTime\n",
       "0      46     1     5.52  2017-08-01 20:40:00\n",
       "8      46     1     3.38  2017-08-01 20:50:00\n",
       "16     46     1     5.52  2017-08-01 21:00:59\n",
       "24     46     1     5.43  2017-08-01 21:10:59\n",
       "32     46     1     5.45  2017-08-01 21:20:00"
      ]
     },
     "execution_count": 8,
     "metadata": {},
     "output_type": "execute_result"
    }
   ],
   "source": [
    "data_current.head()"
   ]
  },
  {
   "cell_type": "code",
   "execution_count": 12,
   "metadata": {
    "scrolled": true
   },
   "outputs": [
    {
     "data": {
      "text/plain": [
       "45    2454\n",
       "59    2374\n",
       "54    2365\n",
       "57    2355\n",
       "53    2274\n",
       "Name: DERID, dtype: int64"
      ]
     },
     "execution_count": 12,
     "metadata": {},
     "output_type": "execute_result"
    }
   ],
   "source": [
    "data_current['DERID'].value_counts().head()"
   ]
  },
  {
   "cell_type": "code",
   "execution_count": 19,
   "metadata": {},
   "outputs": [],
   "source": [
    "data45=data_current[data_current['DERID']==45].reset_index(drop=True)"
   ]
  },
  {
   "cell_type": "code",
   "execution_count": 20,
   "metadata": {},
   "outputs": [
    {
     "data": {
      "text/plain": [
       "0    0.07\n",
       "1    0.00\n",
       "2    0.00\n",
       "3    0.00\n",
       "4    0.00\n",
       "Name: RTValue, dtype: float64"
      ]
     },
     "execution_count": 20,
     "metadata": {},
     "output_type": "execute_result"
    }
   ],
   "source": [
    "data45['RTValue'].head()"
   ]
  },
  {
   "cell_type": "code",
   "execution_count": 27,
   "metadata": {},
   "outputs": [
    {
     "data": {
      "image/png": "[encoded data removed]",
      "text/plain": [
       "<Figure size 432x288 with 1 Axes>"
      ]
     },
     "metadata": {},
     "output_type": "display_data"
    }
   ],
   "source": [
    "import matplotlib.pyplot as plt\n",
    "plt.plot(data45['RTValue'])\n",
    "plt.show()"
   ]
  },
  {
   "cell_type": "code",
   "execution_count": 29,
   "metadata": {},
   "outputs": [],
   "source": [
    "data59=data_current[data_current['DERID']==59].reset_index(drop=True)"
   ]
  },
  {
   "cell_type": "code",
   "execution_count": 31,
   "metadata": {
    "scrolled": false
   },
   "outputs": [
    {
     "data": {
      "image/png": "[encoded data removed]",
      "text/plain": [
       "<Figure size 432x288 with 1 Axes>"
      ]
     },
     "metadata": {},
     "output_type": "display_data"
    }
   ],
   "source": [
    "plt.plot(data59['RTValue'])\n",
    "plt.show()"
   ]
  },
  {
   "cell_type": "code",
   "execution_count": 35,
   "metadata": {
    "collapsed": true
   },
   "outputs": [
    {
     "data": {
      "text/plain": [
       "45    19632\n",
       "59    18992\n",
       "54    18920\n",
       "57    18840\n",
       "53    18192\n",
       "51    17384\n",
       "58    17216\n",
       "52    15608\n",
       "8     15496\n",
       "10    15480\n",
       "29    14992\n",
       "44    14968\n",
       "22    14168\n",
       "43    13856\n",
       "21    13568\n",
       "60    11936\n",
       "62    11864\n",
       "61    10880\n",
       "69    10696\n",
       "65    10552\n",
       "75    10544\n",
       "64    10520\n",
       "7     10512\n",
       "11    10208\n",
       "74    10008\n",
       "71     8352\n",
       "9      8224\n",
       "18     8168\n",
       "63     8112\n",
       "72     7792\n",
       "66     7056\n",
       "80     6168\n",
       "81     6112\n",
       "78     6096\n",
       "79     6048\n",
       "46     5632\n",
       "83     5224\n",
       "85     5208\n",
       "50     5168\n",
       "82     4904\n",
       "20     4896\n",
       "93     3544\n",
       "56     3192\n",
       "90     2672\n",
       "87     2648\n",
       "94     2648\n",
       "76     2576\n",
       "91     2552\n",
       "88     2528\n",
       "86     2256\n",
       "67     1872\n",
       "92     1848\n",
       "48     1496\n",
       "89     1104\n",
       "55      328\n",
       "Name: DERID, dtype: int64"
      ]
     },
     "execution_count": 35,
     "metadata": {},
     "output_type": "execute_result"
    }
   ],
   "source": [
    "data['DERID'].value_counts()"
   ]
  },
  {
   "cell_type": "code",
   "execution_count": 36,
   "metadata": {
    "scrolled": true
   },
   "outputs": [
    {
     "name": "stderr",
     "output_type": "stream",
     "text": [
      "i:\\python\\lib\\site-packages\\pandas\\io\\excel.py:380: UserWarning: The 'parse_dates=True' keyword of read_excel was provided without an 'index_col' keyword value.\n",
      "  warn(\"The 'parse_dates=True' keyword of read_excel was provided\"\n"
     ]
    }
   ],
   "source": [
    "data2=pd.read_excel(r'C:\\Users\\kate\\Desktop\\油烟data\\201709.xlsx',parse_dates=True)"
   ]
  },
  {
   "cell_type": "code",
   "execution_count": 45,
   "metadata": {},
   "outputs": [],
   "source": [
    "data259=data2[data2['DERID']==59].reset_index(drop=True)\n",
    "data259=data259[data259['VTID']==1].reset_index(drop=True)"
   ]
  },
  {
   "cell_type": "code",
   "execution_count": 46,
   "metadata": {
    "scrolled": true
   },
   "outputs": [
    {
     "data": {
      "image/png": "[encoded data removed]",
      "text/plain": [
       "<Figure size 432x288 with 1 Axes>"
      ]
     },
     "metadata": {},
     "output_type": "display_data"
    }
   ],
   "source": [
    "plt.plot(data259['RTValue'])\n",
    "plt.show()"
   ]
  },
  {
   "cell_type": "code",
   "execution_count": 42,
   "metadata": {
    "collapsed": true
   },
   "outputs": [
    {
     "data": {
      "text/html": [
       "<div>\n",
       "<style scoped>\n",
       "    .dataframe tbody tr th:only-of-type {\n",
       "        vertical-align: middle;\n",
       "    }\n",
       "\n",
       "    .dataframe tbody tr th {\n",
       "        vertical-align: top;\n",
       "    }\n",
       "\n",
       "    .dataframe thead th {\n",
       "        text-align: right;\n",
       "    }\n",
       "</style>\n",
       "<table border=\"1\" class=\"dataframe\">\n",
       "  <thead>\n",
       "    <tr style=\"text-align: right;\">\n",
       "      <th></th>\n",
       "      <th>ID</th>\n",
       "      <th>DERID</th>\n",
       "      <th>VTID</th>\n",
       "      <th>RTValue</th>\n",
       "      <th>RTText</th>\n",
       "      <th>RTTime</th>\n",
       "      <th>CreateDate</th>\n",
       "      <th>DataFrom</th>\n",
       "    </tr>\n",
       "  </thead>\n",
       "  <tbody>\n",
       "    <tr>\n",
       "      <th>0</th>\n",
       "      <td>497</td>\n",
       "      <td>59</td>\n",
       "      <td>1</td>\n",
       "      <td>0.00</td>\n",
       "      <td>NaN</td>\n",
       "      <td>2017-09-01 00:20:00</td>\n",
       "      <td>NaN</td>\n",
       "      <td>0</td>\n",
       "    </tr>\n",
       "    <tr>\n",
       "      <th>1</th>\n",
       "      <td>498</td>\n",
       "      <td>59</td>\n",
       "      <td>2</td>\n",
       "      <td>0.00</td>\n",
       "      <td>NaN</td>\n",
       "      <td>2017-09-01 00:20:00</td>\n",
       "      <td>NaN</td>\n",
       "      <td>0</td>\n",
       "    </tr>\n",
       "    <tr>\n",
       "      <th>2</th>\n",
       "      <td>499</td>\n",
       "      <td>59</td>\n",
       "      <td>10</td>\n",
       "      <td>4.00</td>\n",
       "      <td>NaN</td>\n",
       "      <td>2017-09-01 00:20:00</td>\n",
       "      <td>NaN</td>\n",
       "      <td>0</td>\n",
       "    </tr>\n",
       "    <tr>\n",
       "      <th>3</th>\n",
       "      <td>500</td>\n",
       "      <td>59</td>\n",
       "      <td>3</td>\n",
       "      <td>0.00</td>\n",
       "      <td>NaN</td>\n",
       "      <td>2017-09-01 00:20:00</td>\n",
       "      <td>NaN</td>\n",
       "      <td>0</td>\n",
       "    </tr>\n",
       "    <tr>\n",
       "      <th>4</th>\n",
       "      <td>501</td>\n",
       "      <td>59</td>\n",
       "      <td>7</td>\n",
       "      <td>0.00</td>\n",
       "      <td>NaN</td>\n",
       "      <td>2017-09-01 00:20:00</td>\n",
       "      <td>NaN</td>\n",
       "      <td>0</td>\n",
       "    </tr>\n",
       "    <tr>\n",
       "      <th>5</th>\n",
       "      <td>502</td>\n",
       "      <td>59</td>\n",
       "      <td>6</td>\n",
       "      <td>0.00</td>\n",
       "      <td>NaN</td>\n",
       "      <td>2017-09-01 00:20:00</td>\n",
       "      <td>NaN</td>\n",
       "      <td>0</td>\n",
       "    </tr>\n",
       "    <tr>\n",
       "      <th>6</th>\n",
       "      <td>503</td>\n",
       "      <td>59</td>\n",
       "      <td>14</td>\n",
       "      <td>0.29</td>\n",
       "      <td>NaN</td>\n",
       "      <td>2017-09-01 00:20:00</td>\n",
       "      <td>NaN</td>\n",
       "      <td>0</td>\n",
       "    </tr>\n",
       "    <tr>\n",
       "      <th>7</th>\n",
       "      <td>504</td>\n",
       "      <td>59</td>\n",
       "      <td>15</td>\n",
       "      <td>3.00</td>\n",
       "      <td>NaN</td>\n",
       "      <td>2017-09-01 00:20:00</td>\n",
       "      <td>NaN</td>\n",
       "      <td>0</td>\n",
       "    </tr>\n",
       "    <tr>\n",
       "      <th>8</th>\n",
       "      <td>559</td>\n",
       "      <td>59</td>\n",
       "      <td>1</td>\n",
       "      <td>0.00</td>\n",
       "      <td>NaN</td>\n",
       "      <td>2017-09-01 00:30:00</td>\n",
       "      <td>NaN</td>\n",
       "      <td>0</td>\n",
       "    </tr>\n",
       "    <tr>\n",
       "      <th>9</th>\n",
       "      <td>561</td>\n",
       "      <td>59</td>\n",
       "      <td>2</td>\n",
       "      <td>0.00</td>\n",
       "      <td>NaN</td>\n",
       "      <td>2017-09-01 00:30:00</td>\n",
       "      <td>NaN</td>\n",
       "      <td>0</td>\n",
       "    </tr>\n",
       "    <tr>\n",
       "      <th>10</th>\n",
       "      <td>565</td>\n",
       "      <td>59</td>\n",
       "      <td>10</td>\n",
       "      <td>4.00</td>\n",
       "      <td>NaN</td>\n",
       "      <td>2017-09-01 00:30:00</td>\n",
       "      <td>NaN</td>\n",
       "      <td>0</td>\n",
       "    </tr>\n",
       "    <tr>\n",
       "      <th>11</th>\n",
       "      <td>571</td>\n",
       "      <td>59</td>\n",
       "      <td>3</td>\n",
       "      <td>0.00</td>\n",
       "      <td>NaN</td>\n",
       "      <td>2017-09-01 00:30:00</td>\n",
       "      <td>NaN</td>\n",
       "      <td>0</td>\n",
       "    </tr>\n",
       "    <tr>\n",
       "      <th>12</th>\n",
       "      <td>574</td>\n",
       "      <td>59</td>\n",
       "      <td>7</td>\n",
       "      <td>0.00</td>\n",
       "      <td>NaN</td>\n",
       "      <td>2017-09-01 00:30:00</td>\n",
       "      <td>NaN</td>\n",
       "      <td>0</td>\n",
       "    </tr>\n",
       "    <tr>\n",
       "      <th>13</th>\n",
       "      <td>576</td>\n",
       "      <td>59</td>\n",
       "      <td>6</td>\n",
       "      <td>0.37</td>\n",
       "      <td>NaN</td>\n",
       "      <td>2017-09-01 00:30:00</td>\n",
       "      <td>NaN</td>\n",
       "      <td>0</td>\n",
       "    </tr>\n",
       "    <tr>\n",
       "      <th>14</th>\n",
       "      <td>579</td>\n",
       "      <td>59</td>\n",
       "      <td>14</td>\n",
       "      <td>0.69</td>\n",
       "      <td>NaN</td>\n",
       "      <td>2017-09-01 00:30:00</td>\n",
       "      <td>NaN</td>\n",
       "      <td>0</td>\n",
       "    </tr>\n",
       "    <tr>\n",
       "      <th>15</th>\n",
       "      <td>583</td>\n",
       "      <td>59</td>\n",
       "      <td>15</td>\n",
       "      <td>0.00</td>\n",
       "      <td>NaN</td>\n",
       "      <td>2017-09-01 00:30:00</td>\n",
       "      <td>NaN</td>\n",
       "      <td>0</td>\n",
       "    </tr>\n",
       "    <tr>\n",
       "      <th>16</th>\n",
       "      <td>1061</td>\n",
       "      <td>59</td>\n",
       "      <td>1</td>\n",
       "      <td>0.00</td>\n",
       "      <td>NaN</td>\n",
       "      <td>2017-09-01 00:40:00</td>\n",
       "      <td>NaN</td>\n",
       "      <td>0</td>\n",
       "    </tr>\n",
       "    <tr>\n",
       "      <th>17</th>\n",
       "      <td>1063</td>\n",
       "      <td>59</td>\n",
       "      <td>2</td>\n",
       "      <td>0.00</td>\n",
       "      <td>NaN</td>\n",
       "      <td>2017-09-01 00:40:00</td>\n",
       "      <td>NaN</td>\n",
       "      <td>0</td>\n",
       "    </tr>\n",
       "    <tr>\n",
       "      <th>18</th>\n",
       "      <td>1065</td>\n",
       "      <td>59</td>\n",
       "      <td>10</td>\n",
       "      <td>4.00</td>\n",
       "      <td>NaN</td>\n",
       "      <td>2017-09-01 00:40:00</td>\n",
       "      <td>NaN</td>\n",
       "      <td>0</td>\n",
       "    </tr>\n",
       "    <tr>\n",
       "      <th>19</th>\n",
       "      <td>1069</td>\n",
       "      <td>59</td>\n",
       "      <td>3</td>\n",
       "      <td>0.00</td>\n",
       "      <td>NaN</td>\n",
       "      <td>2017-09-01 00:40:00</td>\n",
       "      <td>NaN</td>\n",
       "      <td>0</td>\n",
       "    </tr>\n",
       "    <tr>\n",
       "      <th>20</th>\n",
       "      <td>1073</td>\n",
       "      <td>59</td>\n",
       "      <td>7</td>\n",
       "      <td>0.00</td>\n",
       "      <td>NaN</td>\n",
       "      <td>2017-09-01 00:40:00</td>\n",
       "      <td>NaN</td>\n",
       "      <td>0</td>\n",
       "    </tr>\n",
       "    <tr>\n",
       "      <th>21</th>\n",
       "      <td>1077</td>\n",
       "      <td>59</td>\n",
       "      <td>6</td>\n",
       "      <td>0.69</td>\n",
       "      <td>NaN</td>\n",
       "      <td>2017-09-01 00:40:00</td>\n",
       "      <td>NaN</td>\n",
       "      <td>0</td>\n",
       "    </tr>\n",
       "    <tr>\n",
       "      <th>22</th>\n",
       "      <td>1079</td>\n",
       "      <td>59</td>\n",
       "      <td>14</td>\n",
       "      <td>0.10</td>\n",
       "      <td>NaN</td>\n",
       "      <td>2017-09-01 00:40:00</td>\n",
       "      <td>NaN</td>\n",
       "      <td>0</td>\n",
       "    </tr>\n",
       "    <tr>\n",
       "      <th>23</th>\n",
       "      <td>1084</td>\n",
       "      <td>59</td>\n",
       "      <td>15</td>\n",
       "      <td>0.00</td>\n",
       "      <td>NaN</td>\n",
       "      <td>2017-09-01 00:40:00</td>\n",
       "      <td>NaN</td>\n",
       "      <td>0</td>\n",
       "    </tr>\n",
       "    <tr>\n",
       "      <th>24</th>\n",
       "      <td>1424</td>\n",
       "      <td>59</td>\n",
       "      <td>1</td>\n",
       "      <td>0.00</td>\n",
       "      <td>NaN</td>\n",
       "      <td>2017-09-01 00:50:00</td>\n",
       "      <td>NaN</td>\n",
       "      <td>0</td>\n",
       "    </tr>\n",
       "    <tr>\n",
       "      <th>25</th>\n",
       "      <td>1426</td>\n",
       "      <td>59</td>\n",
       "      <td>2</td>\n",
       "      <td>0.00</td>\n",
       "      <td>NaN</td>\n",
       "      <td>2017-09-01 00:50:00</td>\n",
       "      <td>NaN</td>\n",
       "      <td>0</td>\n",
       "    </tr>\n",
       "    <tr>\n",
       "      <th>26</th>\n",
       "      <td>1431</td>\n",
       "      <td>59</td>\n",
       "      <td>10</td>\n",
       "      <td>4.00</td>\n",
       "      <td>NaN</td>\n",
       "      <td>2017-09-01 00:50:00</td>\n",
       "      <td>NaN</td>\n",
       "      <td>0</td>\n",
       "    </tr>\n",
       "    <tr>\n",
       "      <th>27</th>\n",
       "      <td>1436</td>\n",
       "      <td>59</td>\n",
       "      <td>3</td>\n",
       "      <td>0.00</td>\n",
       "      <td>NaN</td>\n",
       "      <td>2017-09-01 00:50:00</td>\n",
       "      <td>NaN</td>\n",
       "      <td>0</td>\n",
       "    </tr>\n",
       "    <tr>\n",
       "      <th>28</th>\n",
       "      <td>1438</td>\n",
       "      <td>59</td>\n",
       "      <td>7</td>\n",
       "      <td>0.00</td>\n",
       "      <td>NaN</td>\n",
       "      <td>2017-09-01 00:50:00</td>\n",
       "      <td>NaN</td>\n",
       "      <td>0</td>\n",
       "    </tr>\n",
       "    <tr>\n",
       "      <th>29</th>\n",
       "      <td>1442</td>\n",
       "      <td>59</td>\n",
       "      <td>6</td>\n",
       "      <td>0.00</td>\n",
       "      <td>NaN</td>\n",
       "      <td>2017-09-01 00:50:00</td>\n",
       "      <td>NaN</td>\n",
       "      <td>0</td>\n",
       "    </tr>\n",
       "    <tr>\n",
       "      <th>...</th>\n",
       "      <td>...</td>\n",
       "      <td>...</td>\n",
       "      <td>...</td>\n",
       "      <td>...</td>\n",
       "      <td>...</td>\n",
       "      <td>...</td>\n",
       "      <td>...</td>\n",
       "      <td>...</td>\n",
       "    </tr>\n",
       "    <tr>\n",
       "      <th>3890</th>\n",
       "      <td>224891</td>\n",
       "      <td>59</td>\n",
       "      <td>10</td>\n",
       "      <td>0.00</td>\n",
       "      <td>NaN</td>\n",
       "      <td>2017-09-04 10:00:00</td>\n",
       "      <td>NaN</td>\n",
       "      <td>0</td>\n",
       "    </tr>\n",
       "    <tr>\n",
       "      <th>3891</th>\n",
       "      <td>224892</td>\n",
       "      <td>59</td>\n",
       "      <td>3</td>\n",
       "      <td>1.00</td>\n",
       "      <td>NaN</td>\n",
       "      <td>2017-09-04 10:00:00</td>\n",
       "      <td>NaN</td>\n",
       "      <td>0</td>\n",
       "    </tr>\n",
       "    <tr>\n",
       "      <th>3892</th>\n",
       "      <td>224895</td>\n",
       "      <td>59</td>\n",
       "      <td>7</td>\n",
       "      <td>22.24</td>\n",
       "      <td>NaN</td>\n",
       "      <td>2017-09-04 10:00:00</td>\n",
       "      <td>NaN</td>\n",
       "      <td>0</td>\n",
       "    </tr>\n",
       "    <tr>\n",
       "      <th>3893</th>\n",
       "      <td>224897</td>\n",
       "      <td>59</td>\n",
       "      <td>6</td>\n",
       "      <td>0.56</td>\n",
       "      <td>NaN</td>\n",
       "      <td>2017-09-04 10:00:00</td>\n",
       "      <td>NaN</td>\n",
       "      <td>0</td>\n",
       "    </tr>\n",
       "    <tr>\n",
       "      <th>3894</th>\n",
       "      <td>224899</td>\n",
       "      <td>59</td>\n",
       "      <td>14</td>\n",
       "      <td>0.44</td>\n",
       "      <td>NaN</td>\n",
       "      <td>2017-09-04 10:00:00</td>\n",
       "      <td>NaN</td>\n",
       "      <td>0</td>\n",
       "    </tr>\n",
       "    <tr>\n",
       "      <th>3895</th>\n",
       "      <td>224900</td>\n",
       "      <td>59</td>\n",
       "      <td>15</td>\n",
       "      <td>0.00</td>\n",
       "      <td>NaN</td>\n",
       "      <td>2017-09-04 10:00:00</td>\n",
       "      <td>NaN</td>\n",
       "      <td>0</td>\n",
       "    </tr>\n",
       "    <tr>\n",
       "      <th>3896</th>\n",
       "      <td>225386</td>\n",
       "      <td>59</td>\n",
       "      <td>1</td>\n",
       "      <td>1.24</td>\n",
       "      <td>NaN</td>\n",
       "      <td>2017-09-04 10:10:00</td>\n",
       "      <td>NaN</td>\n",
       "      <td>0</td>\n",
       "    </tr>\n",
       "    <tr>\n",
       "      <th>3897</th>\n",
       "      <td>225388</td>\n",
       "      <td>59</td>\n",
       "      <td>2</td>\n",
       "      <td>1.00</td>\n",
       "      <td>NaN</td>\n",
       "      <td>2017-09-04 10:10:00</td>\n",
       "      <td>NaN</td>\n",
       "      <td>0</td>\n",
       "    </tr>\n",
       "    <tr>\n",
       "      <th>3898</th>\n",
       "      <td>225391</td>\n",
       "      <td>59</td>\n",
       "      <td>10</td>\n",
       "      <td>0.00</td>\n",
       "      <td>NaN</td>\n",
       "      <td>2017-09-04 10:10:00</td>\n",
       "      <td>NaN</td>\n",
       "      <td>0</td>\n",
       "    </tr>\n",
       "    <tr>\n",
       "      <th>3899</th>\n",
       "      <td>225395</td>\n",
       "      <td>59</td>\n",
       "      <td>3</td>\n",
       "      <td>1.00</td>\n",
       "      <td>NaN</td>\n",
       "      <td>2017-09-04 10:10:00</td>\n",
       "      <td>NaN</td>\n",
       "      <td>0</td>\n",
       "    </tr>\n",
       "    <tr>\n",
       "      <th>3900</th>\n",
       "      <td>225400</td>\n",
       "      <td>59</td>\n",
       "      <td>7</td>\n",
       "      <td>22.60</td>\n",
       "      <td>NaN</td>\n",
       "      <td>2017-09-04 10:10:00</td>\n",
       "      <td>NaN</td>\n",
       "      <td>0</td>\n",
       "    </tr>\n",
       "    <tr>\n",
       "      <th>3901</th>\n",
       "      <td>225402</td>\n",
       "      <td>59</td>\n",
       "      <td>6</td>\n",
       "      <td>0.44</td>\n",
       "      <td>NaN</td>\n",
       "      <td>2017-09-04 10:10:00</td>\n",
       "      <td>NaN</td>\n",
       "      <td>0</td>\n",
       "    </tr>\n",
       "    <tr>\n",
       "      <th>3902</th>\n",
       "      <td>225408</td>\n",
       "      <td>59</td>\n",
       "      <td>14</td>\n",
       "      <td>0.45</td>\n",
       "      <td>NaN</td>\n",
       "      <td>2017-09-04 10:10:00</td>\n",
       "      <td>NaN</td>\n",
       "      <td>0</td>\n",
       "    </tr>\n",
       "    <tr>\n",
       "      <th>3903</th>\n",
       "      <td>225411</td>\n",
       "      <td>59</td>\n",
       "      <td>15</td>\n",
       "      <td>0.00</td>\n",
       "      <td>NaN</td>\n",
       "      <td>2017-09-04 10:10:00</td>\n",
       "      <td>NaN</td>\n",
       "      <td>0</td>\n",
       "    </tr>\n",
       "    <tr>\n",
       "      <th>3904</th>\n",
       "      <td>226039</td>\n",
       "      <td>59</td>\n",
       "      <td>1</td>\n",
       "      <td>1.24</td>\n",
       "      <td>NaN</td>\n",
       "      <td>2017-09-04 10:20:00</td>\n",
       "      <td>NaN</td>\n",
       "      <td>0</td>\n",
       "    </tr>\n",
       "    <tr>\n",
       "      <th>3905</th>\n",
       "      <td>226042</td>\n",
       "      <td>59</td>\n",
       "      <td>2</td>\n",
       "      <td>1.00</td>\n",
       "      <td>NaN</td>\n",
       "      <td>2017-09-04 10:20:00</td>\n",
       "      <td>NaN</td>\n",
       "      <td>0</td>\n",
       "    </tr>\n",
       "    <tr>\n",
       "      <th>3906</th>\n",
       "      <td>226046</td>\n",
       "      <td>59</td>\n",
       "      <td>10</td>\n",
       "      <td>0.00</td>\n",
       "      <td>NaN</td>\n",
       "      <td>2017-09-04 10:20:00</td>\n",
       "      <td>NaN</td>\n",
       "      <td>0</td>\n",
       "    </tr>\n",
       "    <tr>\n",
       "      <th>3907</th>\n",
       "      <td>226051</td>\n",
       "      <td>59</td>\n",
       "      <td>3</td>\n",
       "      <td>1.00</td>\n",
       "      <td>NaN</td>\n",
       "      <td>2017-09-04 10:20:00</td>\n",
       "      <td>NaN</td>\n",
       "      <td>0</td>\n",
       "    </tr>\n",
       "    <tr>\n",
       "      <th>3908</th>\n",
       "      <td>226054</td>\n",
       "      <td>59</td>\n",
       "      <td>7</td>\n",
       "      <td>22.64</td>\n",
       "      <td>NaN</td>\n",
       "      <td>2017-09-04 10:20:00</td>\n",
       "      <td>NaN</td>\n",
       "      <td>0</td>\n",
       "    </tr>\n",
       "    <tr>\n",
       "      <th>3909</th>\n",
       "      <td>226058</td>\n",
       "      <td>59</td>\n",
       "      <td>6</td>\n",
       "      <td>0.44</td>\n",
       "      <td>NaN</td>\n",
       "      <td>2017-09-04 10:20:00</td>\n",
       "      <td>NaN</td>\n",
       "      <td>0</td>\n",
       "    </tr>\n",
       "    <tr>\n",
       "      <th>3910</th>\n",
       "      <td>226062</td>\n",
       "      <td>59</td>\n",
       "      <td>14</td>\n",
       "      <td>0.41</td>\n",
       "      <td>NaN</td>\n",
       "      <td>2017-09-04 10:20:00</td>\n",
       "      <td>NaN</td>\n",
       "      <td>0</td>\n",
       "    </tr>\n",
       "    <tr>\n",
       "      <th>3911</th>\n",
       "      <td>226064</td>\n",
       "      <td>59</td>\n",
       "      <td>15</td>\n",
       "      <td>0.00</td>\n",
       "      <td>NaN</td>\n",
       "      <td>2017-09-04 10:20:00</td>\n",
       "      <td>NaN</td>\n",
       "      <td>0</td>\n",
       "    </tr>\n",
       "    <tr>\n",
       "      <th>3912</th>\n",
       "      <td>226568</td>\n",
       "      <td>59</td>\n",
       "      <td>1</td>\n",
       "      <td>1.27</td>\n",
       "      <td>NaN</td>\n",
       "      <td>2017-09-04 10:30:01</td>\n",
       "      <td>NaN</td>\n",
       "      <td>0</td>\n",
       "    </tr>\n",
       "    <tr>\n",
       "      <th>3913</th>\n",
       "      <td>226576</td>\n",
       "      <td>59</td>\n",
       "      <td>2</td>\n",
       "      <td>1.00</td>\n",
       "      <td>NaN</td>\n",
       "      <td>2017-09-04 10:30:01</td>\n",
       "      <td>NaN</td>\n",
       "      <td>0</td>\n",
       "    </tr>\n",
       "    <tr>\n",
       "      <th>3914</th>\n",
       "      <td>226584</td>\n",
       "      <td>59</td>\n",
       "      <td>10</td>\n",
       "      <td>0.00</td>\n",
       "      <td>NaN</td>\n",
       "      <td>2017-09-04 10:30:01</td>\n",
       "      <td>NaN</td>\n",
       "      <td>0</td>\n",
       "    </tr>\n",
       "    <tr>\n",
       "      <th>3915</th>\n",
       "      <td>226594</td>\n",
       "      <td>59</td>\n",
       "      <td>3</td>\n",
       "      <td>1.00</td>\n",
       "      <td>NaN</td>\n",
       "      <td>2017-09-04 10:30:01</td>\n",
       "      <td>NaN</td>\n",
       "      <td>0</td>\n",
       "    </tr>\n",
       "    <tr>\n",
       "      <th>3916</th>\n",
       "      <td>226611</td>\n",
       "      <td>59</td>\n",
       "      <td>7</td>\n",
       "      <td>22.46</td>\n",
       "      <td>NaN</td>\n",
       "      <td>2017-09-04 10:30:01</td>\n",
       "      <td>NaN</td>\n",
       "      <td>0</td>\n",
       "    </tr>\n",
       "    <tr>\n",
       "      <th>3917</th>\n",
       "      <td>226623</td>\n",
       "      <td>59</td>\n",
       "      <td>6</td>\n",
       "      <td>0.40</td>\n",
       "      <td>NaN</td>\n",
       "      <td>2017-09-04 10:30:01</td>\n",
       "      <td>NaN</td>\n",
       "      <td>0</td>\n",
       "    </tr>\n",
       "    <tr>\n",
       "      <th>3918</th>\n",
       "      <td>226632</td>\n",
       "      <td>59</td>\n",
       "      <td>14</td>\n",
       "      <td>0.39</td>\n",
       "      <td>NaN</td>\n",
       "      <td>2017-09-04 10:30:01</td>\n",
       "      <td>NaN</td>\n",
       "      <td>0</td>\n",
       "    </tr>\n",
       "    <tr>\n",
       "      <th>3919</th>\n",
       "      <td>226636</td>\n",
       "      <td>59</td>\n",
       "      <td>15</td>\n",
       "      <td>0.00</td>\n",
       "      <td>NaN</td>\n",
       "      <td>2017-09-04 10:30:01</td>\n",
       "      <td>NaN</td>\n",
       "      <td>0</td>\n",
       "    </tr>\n",
       "  </tbody>\n",
       "</table>\n",
       "<p>3920 rows × 8 columns</p>\n",
       "</div>"
      ],
      "text/plain": [
       "          ID  DERID  VTID  RTValue  RTText               RTTime  CreateDate  \\\n",
       "0        497     59     1     0.00     NaN  2017-09-01 00:20:00         NaN   \n",
       "1        498     59     2     0.00     NaN  2017-09-01 00:20:00         NaN   \n",
       "2        499     59    10     4.00     NaN  2017-09-01 00:20:00         NaN   \n",
       "3        500     59     3     0.00     NaN  2017-09-01 00:20:00         NaN   \n",
       "4        501     59     7     0.00     NaN  2017-09-01 00:20:00         NaN   \n",
       "5        502     59     6     0.00     NaN  2017-09-01 00:20:00         NaN   \n",
       "6        503     59    14     0.29     NaN  2017-09-01 00:20:00         NaN   \n",
       "7        504     59    15     3.00     NaN  2017-09-01 00:20:00         NaN   \n",
       "8        559     59     1     0.00     NaN  2017-09-01 00:30:00         NaN   \n",
       "9        561     59     2     0.00     NaN  2017-09-01 00:30:00         NaN   \n",
       "10       565     59    10     4.00     NaN  2017-09-01 00:30:00         NaN   \n",
       "11       571     59     3     0.00     NaN  2017-09-01 00:30:00         NaN   \n",
       "12       574     59     7     0.00     NaN  2017-09-01 00:30:00         NaN   \n",
       "13       576     59     6     0.37     NaN  2017-09-01 00:30:00         NaN   \n",
       "14       579     59    14     0.69     NaN  2017-09-01 00:30:00         NaN   \n",
       "15       583     59    15     0.00     NaN  2017-09-01 00:30:00         NaN   \n",
       "16      1061     59     1     0.00     NaN  2017-09-01 00:40:00         NaN   \n",
       "17      1063     59     2     0.00     NaN  2017-09-01 00:40:00         NaN   \n",
       "18      1065     59    10     4.00     NaN  2017-09-01 00:40:00         NaN   \n",
       "19      1069     59     3     0.00     NaN  2017-09-01 00:40:00         NaN   \n",
       "20      1073     59     7     0.00     NaN  2017-09-01 00:40:00         NaN   \n",
       "21      1077     59     6     0.69     NaN  2017-09-01 00:40:00         NaN   \n",
       "22      1079     59    14     0.10     NaN  2017-09-01 00:40:00         NaN   \n",
       "23      1084     59    15     0.00     NaN  2017-09-01 00:40:00         NaN   \n",
       "24      1424     59     1     0.00     NaN  2017-09-01 00:50:00         NaN   \n",
       "25      1426     59     2     0.00     NaN  2017-09-01 00:50:00         NaN   \n",
       "26      1431     59    10     4.00     NaN  2017-09-01 00:50:00         NaN   \n",
       "27      1436     59     3     0.00     NaN  2017-09-01 00:50:00         NaN   \n",
       "28      1438     59     7     0.00     NaN  2017-09-01 00:50:00         NaN   \n",
       "29      1442     59     6     0.00     NaN  2017-09-01 00:50:00         NaN   \n",
       "...      ...    ...   ...      ...     ...                  ...         ...   \n",
       "3890  224891     59    10     0.00     NaN  2017-09-04 10:00:00         NaN   \n",
       "3891  224892     59     3     1.00     NaN  2017-09-04 10:00:00         NaN   \n",
       "3892  224895     59     7    22.24     NaN  2017-09-04 10:00:00         NaN   \n",
       "3893  224897     59     6     0.56     NaN  2017-09-04 10:00:00         NaN   \n",
       "3894  224899     59    14     0.44     NaN  2017-09-04 10:00:00         NaN   \n",
       "3895  224900     59    15     0.00     NaN  2017-09-04 10:00:00         NaN   \n",
       "3896  225386     59     1     1.24     NaN  2017-09-04 10:10:00         NaN   \n",
       "3897  225388     59     2     1.00     NaN  2017-09-04 10:10:00         NaN   \n",
       "3898  225391     59    10     0.00     NaN  2017-09-04 10:10:00         NaN   \n",
       "3899  225395     59     3     1.00     NaN  2017-09-04 10:10:00         NaN   \n",
       "3900  225400     59     7    22.60     NaN  2017-09-04 10:10:00         NaN   \n",
       "3901  225402     59     6     0.44     NaN  2017-09-04 10:10:00         NaN   \n",
       "3902  225408     59    14     0.45     NaN  2017-09-04 10:10:00         NaN   \n",
       "3903  225411     59    15     0.00     NaN  2017-09-04 10:10:00         NaN   \n",
       "3904  226039     59     1     1.24     NaN  2017-09-04 10:20:00         NaN   \n",
       "3905  226042     59     2     1.00     NaN  2017-09-04 10:20:00         NaN   \n",
       "3906  226046     59    10     0.00     NaN  2017-09-04 10:20:00         NaN   \n",
       "3907  226051     59     3     1.00     NaN  2017-09-04 10:20:00         NaN   \n",
       "3908  226054     59     7    22.64     NaN  2017-09-04 10:20:00         NaN   \n",
       "3909  226058     59     6     0.44     NaN  2017-09-04 10:20:00         NaN   \n",
       "3910  226062     59    14     0.41     NaN  2017-09-04 10:20:00         NaN   \n",
       "3911  226064     59    15     0.00     NaN  2017-09-04 10:20:00         NaN   \n",
       "3912  226568     59     1     1.27     NaN  2017-09-04 10:30:01         NaN   \n",
       "3913  226576     59     2     1.00     NaN  2017-09-04 10:30:01         NaN   \n",
       "3914  226584     59    10     0.00     NaN  2017-09-04 10:30:01         NaN   \n",
       "3915  226594     59     3     1.00     NaN  2017-09-04 10:30:01         NaN   \n",
       "3916  226611     59     7    22.46     NaN  2017-09-04 10:30:01         NaN   \n",
       "3917  226623     59     6     0.40     NaN  2017-09-04 10:30:01         NaN   \n",
       "3918  226632     59    14     0.39     NaN  2017-09-04 10:30:01         NaN   \n",
       "3919  226636     59    15     0.00     NaN  2017-09-04 10:30:01         NaN   \n",
       "\n",
       "      DataFrom  \n",
       "0            0  \n",
       "1            0  \n",
       "2            0  \n",
       "3            0  \n",
       "4            0  \n",
       "5            0  \n",
       "6            0  \n",
       "7            0  \n",
       "8            0  \n",
       "9            0  \n",
       "10           0  \n",
       "11           0  \n",
       "12           0  \n",
       "13           0  \n",
       "14           0  \n",
       "15           0  \n",
       "16           0  \n",
       "17           0  \n",
       "18           0  \n",
       "19           0  \n",
       "20           0  \n",
       "21           0  \n",
       "22           0  \n",
       "23           0  \n",
       "24           0  \n",
       "25           0  \n",
       "26           0  \n",
       "27           0  \n",
       "28           0  \n",
       "29           0  \n",
       "...        ...  \n",
       "3890         0  \n",
       "3891         0  \n",
       "3892         0  \n",
       "3893         0  \n",
       "3894         0  \n",
       "3895         0  \n",
       "3896         0  \n",
       "3897         0  \n",
       "3898         0  \n",
       "3899         0  \n",
       "3900         0  \n",
       "3901         0  \n",
       "3902         0  \n",
       "3903         0  \n",
       "3904         0  \n",
       "3905         0  \n",
       "3906         0  \n",
       "3907         0  \n",
       "3908         0  \n",
       "3909         0  \n",
       "3910         0  \n",
       "3911         0  \n",
       "3912         0  \n",
       "3913         0  \n",
       "3914         0  \n",
       "3915         0  \n",
       "3916         0  \n",
       "3917         0  \n",
       "3918         0  \n",
       "3919         0  \n",
       "\n",
       "[3920 rows x 8 columns]"
      ]
     },
     "execution_count": 42,
     "metadata": {},
     "output_type": "execute_result"
    }
   ],
   "source": [
    "data259"
   ]
  },
  {
   "cell_type": "code",
   "execution_count": 50,
   "metadata": {},
   "outputs": [],
   "source": [
    "data59['RTValue'].to_csv(r'C:\\Users\\kate\\Desktop\\油烟data\\data59.csv')\n",
    "data259['RTValue'].to_csv(r'C:\\Users\\kate\\Desktop\\油烟data\\data259.csv')"
   ]
  },
  {
   "cell_type": "markdown",
   "metadata": {},
   "source": [
    "# data_create"
   ]
  },
  {
   "cell_type": "code",
   "execution_count": 113,
   "metadata": {},
   "outputs": [],
   "source": [
    "standard=1.35"
   ]
  },
  {
   "cell_type": "code",
   "execution_count": 114,
   "metadata": {},
   "outputs": [],
   "source": [
    "lowest=1.35*0.6"
   ]
  },
  {
   "cell_type": "code",
   "execution_count": 63,
   "metadata": {},
   "outputs": [
    {
     "data": {
      "text/plain": [
       "1.27"
      ]
     },
     "execution_count": 63,
     "metadata": {},
     "output_type": "execute_result"
    }
   ],
   "source": [
    "import numpy as np\n",
    "round(np.random.uniform(lowest,standard),2)"
   ]
  },
  {
   "cell_type": "code",
   "execution_count": 136,
   "metadata": {},
   "outputs": [],
   "source": [
    "clear_rate=[]\n",
    "for i in range(25):\n",
    "    clear_rate.append(round(np.random.uniform(lowest,standard)/standard,2))"
   ]
  },
  {
   "cell_type": "code",
   "execution_count": 143,
   "metadata": {},
   "outputs": [],
   "source": [
    "clear_rate.sort(reverse=True)"
   ]
  },
  {
   "cell_type": "code",
   "execution_count": 127,
   "metadata": {
    "collapsed": true
   },
   "outputs": [
    {
     "data": {
      "text/plain": [
       "[1.0,\n",
       " 0.98,\n",
       " 0.98,\n",
       " 0.95,\n",
       " 0.93,\n",
       " 0.93,\n",
       " 0.92,\n",
       " 0.92,\n",
       " 0.9,\n",
       " 0.88,\n",
       " 0.88,\n",
       " 0.88,\n",
       " 0.85,\n",
       " 0.83,\n",
       " 0.81,\n",
       " 0.76,\n",
       " 0.74,\n",
       " 0.74,\n",
       " 0.73,\n",
       " 0.72,\n",
       " 0.68,\n",
       " 0.65,\n",
       " 0.64,\n",
       " 0.62,\n",
       " 0.61]"
      ]
     },
     "execution_count": 127,
     "metadata": {},
     "output_type": "execute_result"
    }
   ],
   "source": [
    "clear_rate"
   ]
  },
  {
   "cell_type": "code",
   "execution_count": 126,
   "metadata": {
    "collapsed": true
   },
   "outputs": [
    {
     "ename": "TypeError",
     "evalue": "list indices must be integers or slices, not str",
     "output_type": "error",
     "traceback": [
      "\u001b[1;31m---------------------------------------------------------------------------\u001b[0m",
      "\u001b[1;31mTypeError\u001b[0m                                 Traceback (most recent call last)",
      "\u001b[1;32m<ipython-input-126-98319e747903>\u001b[0m in \u001b[0;36m<module>\u001b[1;34m()\u001b[0m\n\u001b[1;32m----> 1\u001b[1;33m \u001b[0mrate\u001b[0m\u001b[1;33m=\u001b[0m\u001b[0mnp\u001b[0m\u001b[1;33m.\u001b[0m\u001b[0mmat\u001b[0m\u001b[1;33m(\u001b[0m\u001b[0mclear_rate\u001b[0m\u001b[1;33m[\u001b[0m\u001b[1;34m'净化率'\u001b[0m\u001b[1;33m]\u001b[0m\u001b[1;33m)\u001b[0m\u001b[1;33m\u001b[0m\u001b[0m\n\u001b[0m",
      "\u001b[1;31mTypeError\u001b[0m: list indices must be integers or slices, not str"
     ]
    }
   ],
   "source": [
    "rate=np.mat(clear_rate['净化率'])"
   ]
  },
  {
   "cell_type": "code",
   "execution_count": 117,
   "metadata": {},
   "outputs": [],
   "source": [
    "clear_rate=rate.tolist()[0]"
   ]
  },
  {
   "cell_type": "code",
   "execution_count": 138,
   "metadata": {
    "scrolled": false
   },
   "outputs": [],
   "source": [
    "clear_rate[10:17]=[0.7, 0.7, 0.68, 0.65, 0.64, 0.63, 0.62]"
   ]
  },
  {
   "cell_type": "code",
   "execution_count": 139,
   "metadata": {},
   "outputs": [],
   "source": [
    "clear_rate[17:25]=[0.62, 0.60, 0.60, 0.62, 0.59, 0.60, 0.57, 0.57]"
   ]
  },
  {
   "cell_type": "code",
   "execution_count": 140,
   "metadata": {},
   "outputs": [],
   "source": [
    "clear_rate[1:10]=[0.95,0.89,0.86,0.84, 0.82,0.79, 0.75, 0.74, 0.7]"
   ]
  },
  {
   "cell_type": "code",
   "execution_count": 141,
   "metadata": {},
   "outputs": [],
   "source": [
    "for i in range(75):\n",
    "    clear_rate.append(round(np.random.uniform(lowest,0.3)/standard,2))"
   ]
  },
  {
   "cell_type": "code",
   "execution_count": 135,
   "metadata": {},
   "outputs": [],
   "source": [
    "pd.DataFrame(clear_rate).to_csv(r'H:\\project\\油烟数据分析\\emulation\\净化率预测\\clear_rate.csv',index=range(100))"
   ]
  },
  {
   "cell_type": "markdown",
   "metadata": {},
   "source": [
    "# 导入数据"
   ]
  },
  {
   "cell_type": "code",
   "execution_count": 42,
   "metadata": {},
   "outputs": [
    {
     "data": {
      "text/html": [
       "<div>\n",
       "<style scoped>\n",
       "    .dataframe tbody tr th:only-of-type {\n",
       "        vertical-align: middle;\n",
       "    }\n",
       "\n",
       "    .dataframe tbody tr th {\n",
       "        vertical-align: top;\n",
       "    }\n",
       "\n",
       "    .dataframe thead th {\n",
       "        text-align: right;\n",
       "    }\n",
       "</style>\n",
       "<table border=\"1\" class=\"dataframe\">\n",
       "  <thead>\n",
       "    <tr style=\"text-align: right;\">\n",
       "      <th></th>\n",
       "      <th>0</th>\n",
       "    </tr>\n",
       "  </thead>\n",
       "  <tbody>\n",
       "    <tr>\n",
       "      <th>0</th>\n",
       "      <td>1.00</td>\n",
       "    </tr>\n",
       "    <tr>\n",
       "      <th>1</th>\n",
       "      <td>0.95</td>\n",
       "    </tr>\n",
       "    <tr>\n",
       "      <th>2</th>\n",
       "      <td>0.95</td>\n",
       "    </tr>\n",
       "    <tr>\n",
       "      <th>3</th>\n",
       "      <td>0.94</td>\n",
       "    </tr>\n",
       "    <tr>\n",
       "      <th>4</th>\n",
       "      <td>0.92</td>\n",
       "    </tr>\n",
       "  </tbody>\n",
       "</table>\n",
       "</div>"
      ],
      "text/plain": [
       "      0\n",
       "0  1.00\n",
       "1  0.95\n",
       "2  0.95\n",
       "3  0.94\n",
       "4  0.92"
      ]
     },
     "execution_count": 42,
     "metadata": {},
     "output_type": "execute_result"
    }
   ],
   "source": [
    "import pandas as pd\n",
    "clear_rate =pd.read_csv(r'H:\\project\\油烟数据分析\\emulation\\净化率预测\\clear_rate2.csv',engine='python')\n",
    "del clear_rate['Unnamed: 0']\n",
    "#clear_rate=clear_rate*1.35\n",
    "clear_rate.head()"
   ]
  },
  {
   "cell_type": "code",
   "execution_count": 43,
   "metadata": {
    "scrolled": false
   },
   "outputs": [
    {
     "data": {
      "text/plain": [
       "<matplotlib.collections.PathCollection at 0x24f8e1409b0>"
      ]
     },
     "execution_count": 43,
     "metadata": {},
     "output_type": "execute_result"
    },
    {
     "data": {
      "image/png": "[encoded data removed]",
      "text/plain": [
       "<Figure size 432x288 with 1 Axes>"
      ]
     },
     "metadata": {},
     "output_type": "display_data"
    }
   ],
   "source": [
    "import matplotlib.pyplot as plt\n",
    "plt.scatter(range(len(clear_rate)),clear_rate,c='black')"
   ]
  },
  {
   "cell_type": "code",
   "execution_count": 55,
   "metadata": {},
   "outputs": [],
   "source": [
    "X_train = np.array(range(len(clear_rate))).reshape(-1, 1)[:70]\n",
    "X_test=np.array(range(len(clear_rate))).reshape(-1, 1)[70:]\n",
    "#dataSet_y = df.loc[:, 'Y'].as_matrix(columns=None)  \n",
    "y_train = np.array(clear_rate).reshape(-1, 1) [:70]\n",
    "y_test = np.array(clear_rate).reshape(-1, 1) [70:]\n"
   ]
  },
  {
   "cell_type": "code",
   "execution_count": 90,
   "metadata": {},
   "outputs": [],
   "source": [
    "import pandas as pd  \n",
    "from sklearn.linear_model import LinearRegression  \n",
    "import matplotlib.pyplot as plt  \n",
    "import numpy as np  \n",
    "import pickle\n",
    "from sklearn.preprocessing import PolynomialFeatures\n",
    "from sklearn.pipeline import make_pipeline\n",
    "from sklearn.linear_model import Ridge\n",
    "from sklearn.kernel_ridge import KernelRidge\n",
    "from sklearn.metrics import mean_squared_error\n",
    "\n",
    "#filename = r'H:\\油烟项目\\finalized_model.sav'\n",
    "dic={}\n",
    "model_orig= [\"LinearRegression()\",\"make_pipeline(PolynomialFeatures(2), Ridge())\",\"KernelRidge(alpha=0.05,gamma=0.001, kernel='rbf')\"]\n",
    "#T为矩阵转置把1xn变成nx1  \n",
    "#regr为回归过程，fit(x,y)进行回归 \n",
    "def training(model_orig):\n",
    "    plt.scatter(range(len(clear_rate)),clear_rate,c='black')\n",
    "    plt.show() \n",
    "    for i in range(len(model_orig)):\n",
    "        pred_model=eval(model_orig[i]).fit(X_train,y_train)\n",
    "        pickle.dump(pred_model, open('H:\\project\\油烟数据分析\\emulation\\净化率预测\\{}{}'.format(i,'model'), 'wb'))\n",
    "        mse_training_error=mean_squared_error(pred_model.predict(X_train),y_train)\n",
    "        mse_prediction_error=mean_squared_error(pred_model.predict(X_test),y_test)\n",
    "        dic[i]=(mse_training_error,mse_prediction_error)\n",
    "        plt.scatter(X_train, y_train,  color='black')  \n",
    "        #用predic预测，这里预测输入x对应的值，进行画线  \n",
    "        plt.plot(X_train,pred_model.predict(X_train), color='red', linewidth=3,label=i)  \n",
    "        plt.show()  \n",
    "    return dic\n",
    "#regr = LinearRegression().fit(dataSet_x, dataSet_y)  \n",
    "#输出R的平方  \n",
    "#print(regr.score(dataSet_x, dataSet_y))  \n"
   ]
  },
  {
   "cell_type": "code",
   "execution_count": 91,
   "metadata": {
    "collapsed": true
   },
   "outputs": [
    {
     "data": {
      "image/png": "[encoded data removed]",
      "text/plain": [
       "<Figure size 432x288 with 1 Axes>"
      ]
     },
     "metadata": {},
     "output_type": "display_data"
    },
    {
     "data": {
      "image/png": "[encoded data removed]",
      "text/plain": [
       "<Figure size 432x288 with 1 Axes>"
      ]
     },
     "metadata": {},
     "output_type": "display_data"
    },
    {
     "data": {
      "image/png": "[encoded data removed]",
      "text/plain": [
       "<Figure size 432x288 with 1 Axes>"
      ]
     },
     "metadata": {},
     "output_type": "display_data"
    },
    {
     "data": {
      "image/png": "[encoded data removed]",
      "text/plain": [
       "<Figure size 432x288 with 1 Axes>"
      ]
     },
     "metadata": {},
     "output_type": "display_data"
    }
   ],
   "source": [
    "dic=training(model_orig)"
   ]
  },
  {
   "cell_type": "code",
   "execution_count": 58,
   "metadata": {},
   "outputs": [
    {
     "data": {
      "text/plain": [
       "{0: (0.002575049851906471, 0.007830920690483046),\n",
       " 1: (0.0010908051782250728, 0.025013688258846166),\n",
       " 2: (0.0003326388998006665, 0.0017449555270792492)}"
      ]
     },
     "execution_count": 58,
     "metadata": {},
     "output_type": "execute_result"
    }
   ],
   "source": [
    "dic"
   ]
  },
  {
   "cell_type": "code",
   "execution_count": 149,
   "metadata": {},
   "outputs": [],
   "source": [
    "# 一次"
   ]
  },
  {
   "cell_type": "code",
   "execution_count": 114,
   "metadata": {},
   "outputs": [
    {
     "data": {
      "image/png": "[encoded data removed]",
      "text/plain": [
       "<Figure size 432x288 with 1 Axes>"
      ]
     },
     "metadata": {},
     "output_type": "display_data"
    }
   ],
   "source": [
    "gamma=np.arange(1e-4,1e-2,1e-4)\n",
    "mse=[]\n",
    "for i in gamma:\n",
    "    pred_model=KernelRidge(alpha=0.05,gamma=i, kernel='rbf').fit(X_train,y_train)\n",
    "    #pickle.dump(pred_model, open('H:\\project\\油烟数据分析\\emulation\\净化率预测\\{}{}'.format(i,'model'), 'wb'))\n",
    "    #mse_training_error=mean_squared_error(pred_model.predict(X_train),y_train)\n",
    "    mse.append(mean_squared_error(pred_model.predict(X_test),y_test))\n",
    "    #dic[i]=(mse_training_error,mse_prediction_error)\n",
    "    #plt.scatter(X_train, y_train,  color='black')  \n",
    "    #用predic预测，这里预测输入x对应的值，进行画线  \n",
    "plt.plot(mse, color='red', linewidth=1)  \n",
    "plt.show()  "
   ]
  },
  {
   "cell_type": "code",
   "execution_count": 113,
   "metadata": {
    "scrolled": true
   },
   "outputs": [
    {
     "data": {
      "image/png": "[encoded data removed]",
      "text/plain": [
       "<Figure size 432x288 with 1 Axes>"
      ]
     },
     "metadata": {},
     "output_type": "display_data"
    }
   ],
   "source": [
    "pred_model=KernelRidge(alpha=0.05,gamma=0.001, kernel='rbf').fit(X_train,y_train)\n",
    "#pickle.dump(pred_model, open('H:\\project\\油烟数据分析\\emulation\\净化率预测\\{}{}'.format(i,'model'), 'wb'))\n",
    "mse_training_error=mean_squared_error(pred_model.predict(X_train),y_train)\n",
    "mse_prediction_error=mean_squared_error(pred_model.predict(X_test),y_test)\n",
    "#dic[i]=(mse_training_error,mse_prediction_error)\n",
    "plt.scatter(X_train, y_train,  color='black')  \n",
    "#用predic预测，这里预测输入x对应的值，进行画线  \n",
    "plt.plot(X_train,pred_model.predict(X_train), color='red', linewidth=3,label=i)  \n",
    "plt.show()  "
   ]
  }
 ],
 "metadata": {
  "kernelspec": {
   "display_name": "Python 3",
   "language": "python",
   "name": "python3"
  },
  "language_info": {
   "codemirror_mode": {
    "name": "ipython",
    "version": 3
   },
   "file_extension": ".py",
   "mimetype": "text/x-python",
   "name": "python",
   "nbconvert_exporter": "python",
   "pygments_lexer": "ipython3",
   "version": "3.6.1"
  }
 },
 "nbformat": 4,
 "nbformat_minor": 2
}
